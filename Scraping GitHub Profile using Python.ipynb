{
 "cells": [
  {
   "cell_type": "markdown",
   "id": "93be3ec8",
   "metadata": {},
   "source": [
    "# Scraping GitHub Profile using Python"
   ]
  },
  {
   "cell_type": "markdown",
   "id": "bf2cce6c",
   "metadata": {},
   "source": [
    "Learn how to extract a GitHub profile picture using Python by scraping the HTML of a user's profile page. Familiarity with HTML and the use of the requests and BeautifulSoup libraries is required. To install the BeautifulSoup library, use the command \"pip install beautifulsoup4\" in your command prompt or terminal. The requests library is already included in the Python standard library, so no installation is necessary. The following is an example of how to write a Python program to scrape a profile image from a GitHub profile."
   ]
  },
  {
   "cell_type": "code",
   "execution_count": 2,
   "id": "bad62753",
   "metadata": {},
   "outputs": [
    {
     "name": "stdout",
     "output_type": "stream",
     "text": [
      "https://avatars.githubusercontent.com/u/114666318?v=4\n"
     ]
    }
   ],
   "source": [
    "import requests\n",
    "from bs4 import BeautifulSoup as bs\n",
    "\n",
    "github_profile = \"https://github.com/thekundaram\"\n",
    "req = requests.get(github_profile)\n",
    "scraper = bs(req.content, \"html.parser\")\n",
    "profile_picture = scraper.find(\"img\", {\"alt\": \"Avatar\"})[\"src\"]\n",
    "print(profile_picture)"
   ]
  },
  {
   "cell_type": "markdown",
   "id": "07e66190",
   "metadata": {},
   "source": [
    "Now, if you click on the link you got as an output, you will see the profile picture of the GitHub user. This is how you can scrape profile images from any GitHub profile using Python."
   ]
  },
  {
   "cell_type": "markdown",
   "id": "2c11b6a9",
   "metadata": {},
   "source": [
    "# Summary"
   ]
  },
  {
   "cell_type": "markdown",
   "id": "0f5e4c2c",
   "metadata": {},
   "source": [
    "So this is how you can scrape a GitHub profile using the Python programming language. Web scraping is one of the most valuable skills every coder should have. So you should know how to scrape images from any website using web scraping techniques. I hope you liked this article on scraping any GitHub profile using Python. "
   ]
  }
 ],
 "metadata": {
  "kernelspec": {
   "display_name": "Python 3 (ipykernel)",
   "language": "python",
   "name": "python3"
  },
  "language_info": {
   "codemirror_mode": {
    "name": "ipython",
    "version": 3
   },
   "file_extension": ".py",
   "mimetype": "text/x-python",
   "name": "python",
   "nbconvert_exporter": "python",
   "pygments_lexer": "ipython3",
   "version": "3.9.13"
  }
 },
 "nbformat": 4,
 "nbformat_minor": 5
}
