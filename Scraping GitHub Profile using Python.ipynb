{
 "cells": [
  {
   "cell_type": "markdown",
   "id": "93be3ec8",
   "metadata": {},
   "source": [
    "# Scraping GitHub Profile using Python"
   ]
  },
  {
   "cell_type": "markdown",
   "id": "452b00c3",
   "metadata": {},
   "source": [
    "When we open any GitHub account, we see a profile picture, the name of the user, and a short description of the user in the profile section. Here you will learn how to scrape your GitHub profile image. For this task, you need some knowledge of HTML and the requests and BeautifulSoup libraries in Python.\n",
    "\n",
    "If you have never used the BeautifulSoup library before, use the command mentioned below in your command prompt or terminal to install this library in your Python virtual environment:\n",
    "\n",
    "pip install beautifulsoup4\n",
    "\n",
    "You don’t need to install the requests library as it is already present in the Python standard library. Now below is how to write a Python program to scrape a profile image from any GitHub profile:"
   ]
  },
  {
   "cell_type": "code",
   "execution_count": 2,
   "id": "bad62753",
   "metadata": {},
   "outputs": [
    {
     "name": "stdout",
     "output_type": "stream",
     "text": [
      "https://avatars.githubusercontent.com/u/114666318?v=4\n"
     ]
    }
   ],
   "source": [
    "import requests\n",
    "from bs4 import BeautifulSoup as bs\n",
    "\n",
    "github_profile = \"https://github.com/thekundaram\"\n",
    "req = requests.get(github_profile)\n",
    "scraper = bs(req.content, \"html.parser\")\n",
    "profile_picture = scraper.find(\"img\", {\"alt\": \"Avatar\"})[\"src\"]\n",
    "print(profile_picture)"
   ]
  },
  {
   "cell_type": "markdown",
   "id": "87beeaa1",
   "metadata": {},
   "source": [
    "Now, if you click on the link you got as an output, you will see the profile picture of the GitHub user. This is how you can scrape profile images from any GitHub profile using Python."
   ]
  },
  {
   "cell_type": "markdown",
   "id": "2c11b6a9",
   "metadata": {},
   "source": [
    "# Summary"
   ]
  },
  {
   "cell_type": "markdown",
   "id": "183e5d06",
   "metadata": {},
   "source": [
    "So this is how you can scrape a GitHub profile using the Python programming language. Web scraping is one of the most valuable skills every coder should have. So you should know how to scrape images from any website using web scraping techniques. "
   ]
  }
 ],
 "metadata": {
  "kernelspec": {
   "display_name": "Python 3 (ipykernel)",
   "language": "python",
   "name": "python3"
  },
  "language_info": {
   "codemirror_mode": {
    "name": "ipython",
    "version": 3
   },
   "file_extension": ".py",
   "mimetype": "text/x-python",
   "name": "python",
   "nbconvert_exporter": "python",
   "pygments_lexer": "ipython3",
   "version": "3.9.13"
  }
 },
 "nbformat": 4,
 "nbformat_minor": 5
}
